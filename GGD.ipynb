{
  "nbformat": 4,
  "nbformat_minor": 0,
  "metadata": {
    "colab": {
      "provenance": [],
      "authorship_tag": "ABX9TyOBwTRRnPWVzWOa3HaJybwU",
      "include_colab_link": true
    },
    "kernelspec": {
      "name": "python3",
      "display_name": "Python 3"
    },
    "language_info": {
      "name": "python"
    }
  },
  "cells": [
    {
      "cell_type": "markdown",
      "metadata": {
        "id": "view-in-github",
        "colab_type": "text"
      },
      "source": [
        "<a href=\"https://colab.research.google.com/github/air4bball/361Projects/blob/main/GGD.ipynb\" target=\"_parent\"><img src=\"https://colab.research.google.com/assets/colab-badge.svg\" alt=\"Open In Colab\"/></a>"
      ]
    },
    {
      "cell_type": "markdown",
      "source": [
        "GGD2"
      ],
      "metadata": {
        "id": "UMmbHxc4ZE9c"
      }
    },
    {
      "cell_type": "code",
      "execution_count": null,
      "metadata": {
        "id": "lOjxQ5Uddgws"
      },
      "outputs": [],
      "source": [
        "import numpy as np"
      ]
    },
    {
      "cell_type": "code",
      "source": [
        "card = np.array([1, 2, 3, 4, 5, 6, 7, 8, 9, 10])\n",
        "wheel = np.array([1, 2, 3, 4, 5, 6])\n",
        "dice = np.array([1, 2, 3, 4])\n",
        "\n",
        "sumspace = np.empty(card.size * wheel.size * dice.size)\n",
        "i = 0\n",
        "for a in card:\n",
        "  for b in wheel:\n",
        "    for c in dice:\n",
        "      sumspace[i] = a + b + c\n",
        "      i += 1\n",
        "print(sumspace)\n",
        "\n",
        "numtrue = 0;\n",
        "for d in sumspace:\n",
        "  if d % 10 == 3 or d % 10 == 6 or d % 10 == 1:\n",
        "     print(d)\n",
        "     numtrue += 1\n",
        "print(numtrue)\n",
        "\n",
        "print(numtrue/i)\n"
      ],
      "metadata": {
        "colab": {
          "base_uri": "https://localhost:8080/"
        },
        "id": "EBq_XgGvdlgY",
        "outputId": "1346a82d-d1a3-42e1-d7ff-179972ad2674"
      },
      "execution_count": null,
      "outputs": [
        {
          "output_type": "stream",
          "name": "stdout",
          "text": [
            "[ 3.  4.  5.  6.  4.  5.  6.  7.  5.  6.  7.  8.  6.  7.  8.  9.  7.  8.\n",
            "  9. 10.  8.  9. 10. 11.  4.  5.  6.  7.  5.  6.  7.  8.  6.  7.  8.  9.\n",
            "  7.  8.  9. 10.  8.  9. 10. 11.  9. 10. 11. 12.  5.  6.  7.  8.  6.  7.\n",
            "  8.  9.  7.  8.  9. 10.  8.  9. 10. 11.  9. 10. 11. 12. 10. 11. 12. 13.\n",
            "  6.  7.  8.  9.  7.  8.  9. 10.  8.  9. 10. 11.  9. 10. 11. 12. 10. 11.\n",
            " 12. 13. 11. 12. 13. 14.  7.  8.  9. 10.  8.  9. 10. 11.  9. 10. 11. 12.\n",
            " 10. 11. 12. 13. 11. 12. 13. 14. 12. 13. 14. 15.  8.  9. 10. 11.  9. 10.\n",
            " 11. 12. 10. 11. 12. 13. 11. 12. 13. 14. 12. 13. 14. 15. 13. 14. 15. 16.\n",
            "  9. 10. 11. 12. 10. 11. 12. 13. 11. 12. 13. 14. 12. 13. 14. 15. 13. 14.\n",
            " 15. 16. 14. 15. 16. 17. 10. 11. 12. 13. 11. 12. 13. 14. 12. 13. 14. 15.\n",
            " 13. 14. 15. 16. 14. 15. 16. 17. 15. 16. 17. 18. 11. 12. 13. 14. 12. 13.\n",
            " 14. 15. 13. 14. 15. 16. 14. 15. 16. 17. 15. 16. 17. 18. 16. 17. 18. 19.\n",
            " 12. 13. 14. 15. 13. 14. 15. 16. 14. 15. 16. 17. 15. 16. 17. 18. 16. 17.\n",
            " 18. 19. 17. 18. 19. 20.]\n",
            "3.0\n",
            "6.0\n",
            "6.0\n",
            "6.0\n",
            "6.0\n",
            "11.0\n",
            "6.0\n",
            "6.0\n",
            "6.0\n",
            "11.0\n",
            "11.0\n",
            "6.0\n",
            "6.0\n",
            "11.0\n",
            "11.0\n",
            "11.0\n",
            "13.0\n",
            "6.0\n",
            "11.0\n",
            "11.0\n",
            "11.0\n",
            "13.0\n",
            "11.0\n",
            "13.0\n",
            "11.0\n",
            "11.0\n",
            "11.0\n",
            "13.0\n",
            "11.0\n",
            "13.0\n",
            "13.0\n",
            "11.0\n",
            "11.0\n",
            "11.0\n",
            "13.0\n",
            "11.0\n",
            "13.0\n",
            "13.0\n",
            "13.0\n",
            "16.0\n",
            "11.0\n",
            "11.0\n",
            "13.0\n",
            "11.0\n",
            "13.0\n",
            "13.0\n",
            "13.0\n",
            "16.0\n",
            "16.0\n",
            "11.0\n",
            "13.0\n",
            "11.0\n",
            "13.0\n",
            "13.0\n",
            "13.0\n",
            "16.0\n",
            "16.0\n",
            "16.0\n",
            "11.0\n",
            "13.0\n",
            "13.0\n",
            "13.0\n",
            "16.0\n",
            "16.0\n",
            "16.0\n",
            "16.0\n",
            "13.0\n",
            "13.0\n",
            "16.0\n",
            "16.0\n",
            "16.0\n",
            "16.0\n",
            "72\n",
            "0.3\n"
          ]
        }
      ]
    },
    {
      "cell_type": "code",
      "source": [
        "friday = [10, 10, 10, 10, 10, 15, 15]\n",
        "saturday = [20, 10, 10, 10, 10, 15, 15]\n",
        "\n",
        "total = 0\n",
        "event = 0\n",
        "for f in friday:\n",
        "  for s in saturday:\n",
        "    total += 1\n",
        "    e1 = f == 10 or s == 10\n",
        "    e2 = f == 15 or s == 15\n",
        "    e3 = s == 20\n",
        "    if e1 or e2 or e3:\n",
        "      event += 1"
      ],
      "metadata": {
        "colab": {
          "base_uri": "https://localhost:8080/"
        },
        "id": "KPHdP53yAUoe",
        "outputId": "cdc2ed3c-a9a7-48e8-8cdc-99cc4f8b8e6b"
      },
      "execution_count": null,
      "outputs": [
        {
          "output_type": "stream",
          "name": "stdout",
          "text": [
            "49\n",
            "49\n"
          ]
        }
      ]
    },
    {
      "cell_type": "code",
      "source": [
        "friday = [\"1 (\\$10)\", \"2 (\\$10)\", \"3 (\\$10)\", \"4 (\\$10)\", \"5 (\\$10)\", \"6 (\\$15)\", \"7 (\\$15)\"]\n",
        "saturday = [\"1 (\\$20)\", \"2 (\\$10)\", \"3 (\\$10)\", \"4 (\\$10)\", \"5 (\\$10)\", \"6 (\\$15)\", \"7 (\\$15)\"]\n",
        "for f in friday:\n",
        "    for s in saturday:\n",
        "        print(f + \" and \" + s + \", \")"
      ],
      "metadata": {
        "colab": {
          "base_uri": "https://localhost:8080/"
        },
        "id": "nJZr_MbGJts2",
        "outputId": "b248fbf8-9333-4ae3-f3ac-e98213a718bb"
      },
      "execution_count": null,
      "outputs": [
        {
          "output_type": "stream",
          "name": "stdout",
          "text": [
            "1 (\\$10) and 1 (\\$20), \n",
            "1 (\\$10) and 2 (\\$10), \n",
            "1 (\\$10) and 3 (\\$10), \n",
            "1 (\\$10) and 4 (\\$10), \n",
            "1 (\\$10) and 5 (\\$10), \n",
            "1 (\\$10) and 6 (\\$15), \n",
            "1 (\\$10) and 7 (\\$15), \n",
            "2 (\\$10) and 1 (\\$20), \n",
            "2 (\\$10) and 2 (\\$10), \n",
            "2 (\\$10) and 3 (\\$10), \n",
            "2 (\\$10) and 4 (\\$10), \n",
            "2 (\\$10) and 5 (\\$10), \n",
            "2 (\\$10) and 6 (\\$15), \n",
            "2 (\\$10) and 7 (\\$15), \n",
            "3 (\\$10) and 1 (\\$20), \n",
            "3 (\\$10) and 2 (\\$10), \n",
            "3 (\\$10) and 3 (\\$10), \n",
            "3 (\\$10) and 4 (\\$10), \n",
            "3 (\\$10) and 5 (\\$10), \n",
            "3 (\\$10) and 6 (\\$15), \n",
            "3 (\\$10) and 7 (\\$15), \n",
            "4 (\\$10) and 1 (\\$20), \n",
            "4 (\\$10) and 2 (\\$10), \n",
            "4 (\\$10) and 3 (\\$10), \n",
            "4 (\\$10) and 4 (\\$10), \n",
            "4 (\\$10) and 5 (\\$10), \n",
            "4 (\\$10) and 6 (\\$15), \n",
            "4 (\\$10) and 7 (\\$15), \n",
            "5 (\\$10) and 1 (\\$20), \n",
            "5 (\\$10) and 2 (\\$10), \n",
            "5 (\\$10) and 3 (\\$10), \n",
            "5 (\\$10) and 4 (\\$10), \n",
            "5 (\\$10) and 5 (\\$10), \n",
            "5 (\\$10) and 6 (\\$15), \n",
            "5 (\\$10) and 7 (\\$15), \n",
            "6 (\\$15) and 1 (\\$20), \n",
            "6 (\\$15) and 2 (\\$10), \n",
            "6 (\\$15) and 3 (\\$10), \n",
            "6 (\\$15) and 4 (\\$10), \n",
            "6 (\\$15) and 5 (\\$10), \n",
            "6 (\\$15) and 6 (\\$15), \n",
            "6 (\\$15) and 7 (\\$15), \n",
            "7 (\\$15) and 1 (\\$20), \n",
            "7 (\\$15) and 2 (\\$10), \n",
            "7 (\\$15) and 3 (\\$10), \n",
            "7 (\\$15) and 4 (\\$10), \n",
            "7 (\\$15) and 5 (\\$10), \n",
            "7 (\\$15) and 6 (\\$15), \n",
            "7 (\\$15) and 7 (\\$15), \n"
          ]
        }
      ]
    },
    {
      "cell_type": "markdown",
      "source": [
        "GGD3"
      ],
      "metadata": {
        "id": "nVTWom4_ZIiN"
      }
    },
    {
      "cell_type": "code",
      "source": [
        "def needle_experiment(num_needles):\n",
        "    crosses = 0\n",
        "    for _ in range(num_needles):\n",
        "        x = np.random.uniform(0, 0.5)\n",
        "        theta = np.random.uniform(0, np.pi/2)\n",
        "        if x <= 0.5 * np.sin(theta):\n",
        "            crosses += 1\n",
        "    return crosses / num_needles\n",
        "\n",
        "num_experiments = 100\n",
        "num_needles_list = [100, 1000, 100000]\n",
        "results = []\n",
        "\n",
        "for num_needles in num_needles_list:\n",
        "    experiment_results = []\n",
        "    for _ in range(num_experiments):\n",
        "        experiment_results.append(needle_experiment(num_needles))\n",
        "    results.append((num_needles, np.mean(experiment_results), np.var(experiment_results)))\n",
        "\n",
        "for num_needles, mean, variance in results:\n",
        "    print(f\"Number of needles: {num_needles}, Mean probability: {mean}, Variance: {variance}\")\n"
      ],
      "metadata": {
        "colab": {
          "base_uri": "https://localhost:8080/"
        },
        "id": "kRJB2hBGZJW3",
        "outputId": "d9d69dd0-2310-449b-8af4-74b9946e02b2"
      },
      "execution_count": null,
      "outputs": [
        {
          "output_type": "stream",
          "name": "stdout",
          "text": [
            "Number of needles: 100, Mean probability: 0.6306999999999998, Variance: 0.0020625100000000005\n",
            "Number of needles: 1000, Mean probability: 0.63759, Variance: 0.0002546419000000005\n",
            "Number of needles: 100000, Mean probability: 0.6365827000000001, Variance: 1.8919117099999828e-06\n"
          ]
        }
      ]
    }
  ]
}